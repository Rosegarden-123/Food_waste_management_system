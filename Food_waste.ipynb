{
 "cells": [
  {
   "cell_type": "code",
   "execution_count": 2,
   "id": "7d8ef0a9",
   "metadata": {},
   "outputs": [],
   "source": [
    "#Import Required libraries\n",
    "import pandas as pd \n",
    "import sqlite3"
   ]
  },
  {
   "cell_type": "code",
   "execution_count": 5,
   "id": "e19fe00d",
   "metadata": {},
   "outputs": [],
   "source": [
    "#loading data set\n",
    "df_providers=pd.read_csv(r\"C:\\Users\\Pitchamani\\Desktop\\FWMS\\providers_data.csv\")\n",
    "df_receivers=pd.read_csv(r\"C:\\Users\\Pitchamani\\Desktop\\FWMS\\receivers_data.csv\")\n",
    "df_foodlist=pd.read_csv(r\"C:\\Users\\Pitchamani\\Desktop\\FWMS\\food_listings_data.csv\")\n",
    "df_claims=pd.read_csv(r\"C:\\Users\\Pitchamani\\Desktop\\FWMS\\claims_data.csv\")"
   ]
  },
  {
   "cell_type": "code",
   "execution_count": 6,
   "id": "6dd0a117",
   "metadata": {},
   "outputs": [
    {
     "name": "stdout",
     "output_type": "stream",
     "text": [
      "<class 'pandas.core.frame.DataFrame'>\n",
      "RangeIndex: 1000 entries, 0 to 999\n",
      "Data columns (total 6 columns):\n",
      " #   Column       Non-Null Count  Dtype \n",
      "---  ------       --------------  ----- \n",
      " 0   Provider_ID  1000 non-null   int64 \n",
      " 1   Name         1000 non-null   object\n",
      " 2   Type         1000 non-null   object\n",
      " 3   Address      1000 non-null   object\n",
      " 4   City         1000 non-null   object\n",
      " 5   Contact      1000 non-null   object\n",
      "dtypes: int64(1), object(5)\n",
      "memory usage: 47.0+ KB\n"
     ]
    }
   ],
   "source": [
    "#cleaning data\n",
    "df_providers.info()"
   ]
  },
  {
   "cell_type": "code",
   "execution_count": 7,
   "id": "86a7f5f7",
   "metadata": {},
   "outputs": [
    {
     "name": "stdout",
     "output_type": "stream",
     "text": [
      "<class 'pandas.core.frame.DataFrame'>\n",
      "RangeIndex: 1000 entries, 0 to 999\n",
      "Data columns (total 5 columns):\n",
      " #   Column       Non-Null Count  Dtype \n",
      "---  ------       --------------  ----- \n",
      " 0   Receiver_ID  1000 non-null   int64 \n",
      " 1   Name         1000 non-null   object\n",
      " 2   Type         1000 non-null   object\n",
      " 3   City         1000 non-null   object\n",
      " 4   Contact      1000 non-null   object\n",
      "dtypes: int64(1), object(4)\n",
      "memory usage: 39.2+ KB\n"
     ]
    }
   ],
   "source": [
    "df_receivers.info()"
   ]
  },
  {
   "cell_type": "code",
   "execution_count": 8,
   "id": "d91ca242",
   "metadata": {},
   "outputs": [
    {
     "name": "stdout",
     "output_type": "stream",
     "text": [
      "<class 'pandas.core.frame.DataFrame'>\n",
      "RangeIndex: 1000 entries, 0 to 999\n",
      "Data columns (total 9 columns):\n",
      " #   Column         Non-Null Count  Dtype \n",
      "---  ------         --------------  ----- \n",
      " 0   Food_ID        1000 non-null   int64 \n",
      " 1   Food_Name      1000 non-null   object\n",
      " 2   Quantity       1000 non-null   int64 \n",
      " 3   Expiry_Date    1000 non-null   object\n",
      " 4   Provider_ID    1000 non-null   int64 \n",
      " 5   Provider_Type  1000 non-null   object\n",
      " 6   Location       1000 non-null   object\n",
      " 7   Food_Type      1000 non-null   object\n",
      " 8   Meal_Type      1000 non-null   object\n",
      "dtypes: int64(3), object(6)\n",
      "memory usage: 70.4+ KB\n"
     ]
    }
   ],
   "source": [
    "df_foodlist.info()"
   ]
  },
  {
   "cell_type": "code",
   "execution_count": 9,
   "id": "2c6b9e97",
   "metadata": {},
   "outputs": [
    {
     "data": {
      "text/html": [
       "<div>\n",
       "<style scoped>\n",
       "    .dataframe tbody tr th:only-of-type {\n",
       "        vertical-align: middle;\n",
       "    }\n",
       "\n",
       "    .dataframe tbody tr th {\n",
       "        vertical-align: top;\n",
       "    }\n",
       "\n",
       "    .dataframe thead th {\n",
       "        text-align: right;\n",
       "    }\n",
       "</style>\n",
       "<table border=\"1\" class=\"dataframe\">\n",
       "  <thead>\n",
       "    <tr style=\"text-align: right;\">\n",
       "      <th></th>\n",
       "      <th>Food_ID</th>\n",
       "      <th>Food_Name</th>\n",
       "      <th>Quantity</th>\n",
       "      <th>Expiry_Date</th>\n",
       "      <th>Provider_ID</th>\n",
       "      <th>Provider_Type</th>\n",
       "      <th>Location</th>\n",
       "      <th>Food_Type</th>\n",
       "      <th>Meal_Type</th>\n",
       "    </tr>\n",
       "  </thead>\n",
       "  <tbody>\n",
       "    <tr>\n",
       "      <th>0</th>\n",
       "      <td>1</td>\n",
       "      <td>Bread</td>\n",
       "      <td>43</td>\n",
       "      <td>3/17/2025</td>\n",
       "      <td>110</td>\n",
       "      <td>Grocery Store</td>\n",
       "      <td>South Kellyville</td>\n",
       "      <td>Non-Vegetarian</td>\n",
       "      <td>Breakfast</td>\n",
       "    </tr>\n",
       "    <tr>\n",
       "      <th>1</th>\n",
       "      <td>2</td>\n",
       "      <td>Soup</td>\n",
       "      <td>22</td>\n",
       "      <td>3/24/2025</td>\n",
       "      <td>791</td>\n",
       "      <td>Grocery Store</td>\n",
       "      <td>West James</td>\n",
       "      <td>Non-Vegetarian</td>\n",
       "      <td>Dinner</td>\n",
       "    </tr>\n",
       "    <tr>\n",
       "      <th>2</th>\n",
       "      <td>3</td>\n",
       "      <td>Fruits</td>\n",
       "      <td>46</td>\n",
       "      <td>3/28/2025</td>\n",
       "      <td>478</td>\n",
       "      <td>Catering Service</td>\n",
       "      <td>Lake Regina</td>\n",
       "      <td>Vegan</td>\n",
       "      <td>Breakfast</td>\n",
       "    </tr>\n",
       "    <tr>\n",
       "      <th>3</th>\n",
       "      <td>4</td>\n",
       "      <td>Fruits</td>\n",
       "      <td>15</td>\n",
       "      <td>3/16/2025</td>\n",
       "      <td>930</td>\n",
       "      <td>Restaurant</td>\n",
       "      <td>Kellytown</td>\n",
       "      <td>Vegan</td>\n",
       "      <td>Lunch</td>\n",
       "    </tr>\n",
       "    <tr>\n",
       "      <th>4</th>\n",
       "      <td>5</td>\n",
       "      <td>Soup</td>\n",
       "      <td>14</td>\n",
       "      <td>3/19/2025</td>\n",
       "      <td>279</td>\n",
       "      <td>Restaurant</td>\n",
       "      <td>Garciaport</td>\n",
       "      <td>Vegan</td>\n",
       "      <td>Dinner</td>\n",
       "    </tr>\n",
       "  </tbody>\n",
       "</table>\n",
       "</div>"
      ],
      "text/plain": [
       "   Food_ID Food_Name  Quantity Expiry_Date  Provider_ID     Provider_Type  \\\n",
       "0        1     Bread        43   3/17/2025          110     Grocery Store   \n",
       "1        2      Soup        22   3/24/2025          791     Grocery Store   \n",
       "2        3    Fruits        46   3/28/2025          478  Catering Service   \n",
       "3        4    Fruits        15   3/16/2025          930        Restaurant   \n",
       "4        5      Soup        14   3/19/2025          279        Restaurant   \n",
       "\n",
       "           Location       Food_Type  Meal_Type  \n",
       "0  South Kellyville  Non-Vegetarian  Breakfast  \n",
       "1        West James  Non-Vegetarian     Dinner  \n",
       "2       Lake Regina           Vegan  Breakfast  \n",
       "3         Kellytown           Vegan      Lunch  \n",
       "4        Garciaport           Vegan     Dinner  "
      ]
     },
     "execution_count": 9,
     "metadata": {},
     "output_type": "execute_result"
    }
   ],
   "source": [
    "df_foodlist.head()"
   ]
  },
  {
   "cell_type": "code",
   "execution_count": 11,
   "id": "80728a22",
   "metadata": {},
   "outputs": [],
   "source": [
    "#Changing EXpiry_Date format to datetime from object\n",
    "df_foodlist[\"Expiry_Date\"]=pd.to_datetime(df_foodlist[\"Expiry_Date\"],errors=\"coerce\")"
   ]
  },
  {
   "cell_type": "code",
   "execution_count": null,
   "id": "2f8becbc",
   "metadata": {},
   "outputs": [
    {
     "name": "stdout",
     "output_type": "stream",
     "text": [
      "<class 'pandas.core.frame.DataFrame'>\n",
      "RangeIndex: 1000 entries, 0 to 999\n",
      "Data columns (total 9 columns):\n",
      " #   Column         Non-Null Count  Dtype         \n",
      "---  ------         --------------  -----         \n",
      " 0   Food_ID        1000 non-null   int64         \n",
      " 1   Food_Name      1000 non-null   object        \n",
      " 2   Quantity       1000 non-null   int64         \n",
      " 3   Expiry_Date    1000 non-null   datetime64[ns]\n",
      " 4   Provider_ID    1000 non-null   int64         \n",
      " 5   Provider_Type  1000 non-null   object        \n",
      " 6   Location       1000 non-null   object        \n",
      " 7   Food_Type      1000 non-null   object        \n",
      " 8   Meal_Type      1000 non-null   object        \n",
      "dtypes: datetime64[ns](1), int64(3), object(5)\n",
      "memory usage: 70.4+ KB\n"
     ]
    }
   ],
   "source": [
    "df_foodlist.info()\n",
    "#format to datatime"
   ]
  },
  {
   "cell_type": "code",
   "execution_count": 13,
   "id": "9eee5a8e",
   "metadata": {},
   "outputs": [
    {
     "name": "stdout",
     "output_type": "stream",
     "text": [
      "<class 'pandas.core.frame.DataFrame'>\n",
      "RangeIndex: 1000 entries, 0 to 999\n",
      "Data columns (total 5 columns):\n",
      " #   Column       Non-Null Count  Dtype \n",
      "---  ------       --------------  ----- \n",
      " 0   Claim_ID     1000 non-null   int64 \n",
      " 1   Food_ID      1000 non-null   int64 \n",
      " 2   Receiver_ID  1000 non-null   int64 \n",
      " 3   Status       1000 non-null   object\n",
      " 4   Timestamp    1000 non-null   object\n",
      "dtypes: int64(3), object(2)\n",
      "memory usage: 39.2+ KB\n"
     ]
    }
   ],
   "source": [
    "df_claims.info()"
   ]
  },
  {
   "cell_type": "code",
   "execution_count": 14,
   "id": "4be4cdfe",
   "metadata": {},
   "outputs": [
    {
     "data": {
      "text/html": [
       "<div>\n",
       "<style scoped>\n",
       "    .dataframe tbody tr th:only-of-type {\n",
       "        vertical-align: middle;\n",
       "    }\n",
       "\n",
       "    .dataframe tbody tr th {\n",
       "        vertical-align: top;\n",
       "    }\n",
       "\n",
       "    .dataframe thead th {\n",
       "        text-align: right;\n",
       "    }\n",
       "</style>\n",
       "<table border=\"1\" class=\"dataframe\">\n",
       "  <thead>\n",
       "    <tr style=\"text-align: right;\">\n",
       "      <th></th>\n",
       "      <th>Claim_ID</th>\n",
       "      <th>Food_ID</th>\n",
       "      <th>Receiver_ID</th>\n",
       "      <th>Status</th>\n",
       "      <th>Timestamp</th>\n",
       "    </tr>\n",
       "  </thead>\n",
       "  <tbody>\n",
       "    <tr>\n",
       "      <th>0</th>\n",
       "      <td>1</td>\n",
       "      <td>164</td>\n",
       "      <td>908</td>\n",
       "      <td>Pending</td>\n",
       "      <td>03/05/2025 05:26</td>\n",
       "    </tr>\n",
       "    <tr>\n",
       "      <th>1</th>\n",
       "      <td>2</td>\n",
       "      <td>353</td>\n",
       "      <td>391</td>\n",
       "      <td>Cancelled</td>\n",
       "      <td>03/11/2025 10:24</td>\n",
       "    </tr>\n",
       "    <tr>\n",
       "      <th>2</th>\n",
       "      <td>3</td>\n",
       "      <td>626</td>\n",
       "      <td>492</td>\n",
       "      <td>Completed</td>\n",
       "      <td>3/21/2025 0:59</td>\n",
       "    </tr>\n",
       "    <tr>\n",
       "      <th>3</th>\n",
       "      <td>4</td>\n",
       "      <td>61</td>\n",
       "      <td>933</td>\n",
       "      <td>Cancelled</td>\n",
       "      <td>03/04/2025 09:08</td>\n",
       "    </tr>\n",
       "    <tr>\n",
       "      <th>4</th>\n",
       "      <td>5</td>\n",
       "      <td>345</td>\n",
       "      <td>229</td>\n",
       "      <td>Pending</td>\n",
       "      <td>3/14/2025 15:17</td>\n",
       "    </tr>\n",
       "  </tbody>\n",
       "</table>\n",
       "</div>"
      ],
      "text/plain": [
       "   Claim_ID  Food_ID  Receiver_ID     Status         Timestamp\n",
       "0         1      164          908    Pending  03/05/2025 05:26\n",
       "1         2      353          391  Cancelled  03/11/2025 10:24\n",
       "2         3      626          492  Completed    3/21/2025 0:59\n",
       "3         4       61          933  Cancelled  03/04/2025 09:08\n",
       "4         5      345          229    Pending   3/14/2025 15:17"
      ]
     },
     "execution_count": 14,
     "metadata": {},
     "output_type": "execute_result"
    }
   ],
   "source": [
    "df_claims.head()"
   ]
  },
  {
   "cell_type": "code",
   "execution_count": 15,
   "id": "bf883501",
   "metadata": {},
   "outputs": [],
   "source": [
    "#changing timestamp format\n",
    "df_claims[\"Timestamp\"]=pd.to_datetime(df_claims[\"Timestamp\"],errors=\"coerce\")"
   ]
  },
  {
   "cell_type": "code",
   "execution_count": null,
   "id": "5c6885f4",
   "metadata": {},
   "outputs": [
    {
     "name": "stdout",
     "output_type": "stream",
     "text": [
      "<class 'pandas.core.frame.DataFrame'>\n",
      "RangeIndex: 1000 entries, 0 to 999\n",
      "Data columns (total 5 columns):\n",
      " #   Column       Non-Null Count  Dtype         \n",
      "---  ------       --------------  -----         \n",
      " 0   Claim_ID     1000 non-null   int64         \n",
      " 1   Food_ID      1000 non-null   int64         \n",
      " 2   Receiver_ID  1000 non-null   int64         \n",
      " 3   Status       1000 non-null   object        \n",
      " 4   Timestamp    1000 non-null   datetime64[ns]\n",
      "dtypes: datetime64[ns](1), int64(3), object(1)\n",
      "memory usage: 39.2+ KB\n"
     ]
    }
   ],
   "source": [
    "df_claims.info()"
   ]
  },
  {
   "cell_type": "code",
   "execution_count": 17,
   "id": "9fd9a525",
   "metadata": {},
   "outputs": [
    {
     "data": {
      "text/html": [
       "<div>\n",
       "<style scoped>\n",
       "    .dataframe tbody tr th:only-of-type {\n",
       "        vertical-align: middle;\n",
       "    }\n",
       "\n",
       "    .dataframe tbody tr th {\n",
       "        vertical-align: top;\n",
       "    }\n",
       "\n",
       "    .dataframe thead th {\n",
       "        text-align: right;\n",
       "    }\n",
       "</style>\n",
       "<table border=\"1\" class=\"dataframe\">\n",
       "  <thead>\n",
       "    <tr style=\"text-align: right;\">\n",
       "      <th></th>\n",
       "      <th>Claim_ID</th>\n",
       "      <th>Food_ID</th>\n",
       "      <th>Receiver_ID</th>\n",
       "      <th>Status</th>\n",
       "      <th>Timestamp</th>\n",
       "    </tr>\n",
       "  </thead>\n",
       "  <tbody>\n",
       "    <tr>\n",
       "      <th>0</th>\n",
       "      <td>1</td>\n",
       "      <td>164</td>\n",
       "      <td>908</td>\n",
       "      <td>Pending</td>\n",
       "      <td>2025-03-05 05:26:00</td>\n",
       "    </tr>\n",
       "    <tr>\n",
       "      <th>1</th>\n",
       "      <td>2</td>\n",
       "      <td>353</td>\n",
       "      <td>391</td>\n",
       "      <td>Cancelled</td>\n",
       "      <td>2025-03-11 10:24:00</td>\n",
       "    </tr>\n",
       "    <tr>\n",
       "      <th>2</th>\n",
       "      <td>3</td>\n",
       "      <td>626</td>\n",
       "      <td>492</td>\n",
       "      <td>Completed</td>\n",
       "      <td>2025-03-21 00:59:00</td>\n",
       "    </tr>\n",
       "    <tr>\n",
       "      <th>3</th>\n",
       "      <td>4</td>\n",
       "      <td>61</td>\n",
       "      <td>933</td>\n",
       "      <td>Cancelled</td>\n",
       "      <td>2025-03-04 09:08:00</td>\n",
       "    </tr>\n",
       "    <tr>\n",
       "      <th>4</th>\n",
       "      <td>5</td>\n",
       "      <td>345</td>\n",
       "      <td>229</td>\n",
       "      <td>Pending</td>\n",
       "      <td>2025-03-14 15:17:00</td>\n",
       "    </tr>\n",
       "  </tbody>\n",
       "</table>\n",
       "</div>"
      ],
      "text/plain": [
       "   Claim_ID  Food_ID  Receiver_ID     Status           Timestamp\n",
       "0         1      164          908    Pending 2025-03-05 05:26:00\n",
       "1         2      353          391  Cancelled 2025-03-11 10:24:00\n",
       "2         3      626          492  Completed 2025-03-21 00:59:00\n",
       "3         4       61          933  Cancelled 2025-03-04 09:08:00\n",
       "4         5      345          229    Pending 2025-03-14 15:17:00"
      ]
     },
     "execution_count": 17,
     "metadata": {},
     "output_type": "execute_result"
    }
   ],
   "source": [
    "df_claims.head()"
   ]
  },
  {
   "cell_type": "code",
   "execution_count": 18,
   "id": "cfee096a",
   "metadata": {},
   "outputs": [],
   "source": [
    "# Database connection\n",
    "conn = sqlite3.connect(\"food_wastage.db\")\n",
    "cursor = conn.cursor()"
   ]
  },
  {
   "cell_type": "code",
   "execution_count": null,
   "id": "7c3cd9e4",
   "metadata": {},
   "outputs": [
    {
     "name": "stdout",
     "output_type": "stream",
     "text": [
      "Collecting pymysql\n",
      "  Using cached PyMySQL-1.1.1-py3-none-any.whl.metadata (4.4 kB)\n",
      "Using cached PyMySQL-1.1.1-py3-none-any.whl (44 kB)\n",
      "Installing collected packages: pymysql\n",
      "Successfully installed pymysql-1.1.1\n",
      "Note: you may need to restart the kernel to use updated packages.\n"
     ]
    }
   ],
   "source": [
    "%pip install pymysql\n",
    "import pymysql "
   ]
  },
  {
   "cell_type": "code",
   "execution_count": 24,
   "id": "9a0ae9bd",
   "metadata": {},
   "outputs": [],
   "source": [
    "# MySQL connection setup\n",
    "conn = pymysql.connect(\n",
    "    host=\"localhost\",\n",
    "    user=\"root\",\n",
    "    password=\"root\",\n",
    "\n",
    ")\n",
    "cursor = conn.cursor()"
   ]
  },
  {
   "cell_type": "code",
   "execution_count": 25,
   "id": "efc9e290",
   "metadata": {},
   "outputs": [
    {
     "data": {
      "text/plain": [
       "1"
      ]
     },
     "execution_count": 25,
     "metadata": {},
     "output_type": "execute_result"
    }
   ],
   "source": [
    "cursor.execute(\"CREATE DATABASE IF NOT EXISTS food_data\")"
   ]
  },
  {
   "cell_type": "code",
   "execution_count": 27,
   "id": "a2f96e06",
   "metadata": {},
   "outputs": [
    {
     "data": {
      "text/plain": [
       "0"
      ]
     },
     "execution_count": 27,
     "metadata": {},
     "output_type": "execute_result"
    }
   ],
   "source": [
    "cursor.execute(\"USE food_data\")"
   ]
  },
  {
   "cell_type": "code",
   "execution_count": 28,
   "id": "9e59eb40",
   "metadata": {},
   "outputs": [],
   "source": [
    "#Table creation\n",
    "cursor.execute(\"\"\"\n",
    "    CREATE TABLE IF NOT EXISTS providers (\n",
    "        Provider_ID INT AUTO_INCREMENT PRIMARY KEY,\n",
    "        Name VARCHAR(255),\n",
    "        Type VARCHAR(100),\n",
    "        Address TEXT,\n",
    "        City VARCHAR(100),\n",
    "        Contact VARCHAR(50)\n",
    "    )\n",
    "\"\"\")\n",
    "conn.commit()"
   ]
  },
  {
   "cell_type": "code",
   "execution_count": 29,
   "id": "4a98356d",
   "metadata": {},
   "outputs": [],
   "source": [
    "# Insert data using iterrows()\n",
    "for index, row in df_providers.iterrows():\n",
    "    cursor.execute(\"\"\"\n",
    "        INSERT INTO providers (Provider_ID, Name, Type, Address, City, Contact)\n",
    "        VALUES (%s, %s, %s, %s, %s, %s)\n",
    "    \"\"\", tuple(row))"
   ]
  },
  {
   "cell_type": "code",
   "execution_count": 30,
   "id": "364e0482",
   "metadata": {},
   "outputs": [],
   "source": [
    "conn.commit()"
   ]
  },
  {
   "cell_type": "code",
   "execution_count": 31,
   "id": "42e14944",
   "metadata": {},
   "outputs": [],
   "source": [
    "#Table creation for Receivers\n",
    "cursor.execute(\"\"\"\n",
    "    CREATE TABLE IF NOT EXISTS receivers (\n",
    "        Receiver_ID INT AUTO_INCREMENT PRIMARY KEY,\n",
    "        Name VARCHAR(255),\n",
    "        Type VARCHAR(100),\n",
    "        City VARCHAR(100),\n",
    "        Contact VARCHAR(50)\n",
    "    )\n",
    "\"\"\")\n",
    "conn.commit()"
   ]
  },
  {
   "cell_type": "code",
   "execution_count": 32,
   "id": "2653e758",
   "metadata": {},
   "outputs": [],
   "source": [
    "# Insert data using iterrows()\n",
    "for index, row in df_receivers.iterrows():\n",
    "    cursor.execute(\"\"\"\n",
    "        INSERT INTO receivers (Receiver_ID, Name, Type, City, Contact)\n",
    "        VALUES (%s, %s, %s, %s, %s)\n",
    "    \"\"\", tuple(row))"
   ]
  },
  {
   "cell_type": "code",
   "execution_count": 33,
   "id": "61fb8d8c",
   "metadata": {},
   "outputs": [],
   "source": [
    "conn.commit()"
   ]
  },
  {
   "cell_type": "code",
   "execution_count": 34,
   "id": "a30b972a",
   "metadata": {},
   "outputs": [],
   "source": [
    "#Table creation for foodlist\n",
    "cursor.execute(\"\"\"\n",
    "        CREATE TABLE IF NOT EXISTS foodlist (\n",
    "            Food_ID INT PRIMARY KEY,\n",
    "            Food_Name VARCHAR(255),\n",
    "            Quantity INT,\n",
    "            Expiry_Date DATETIME,\n",
    "            Provider_ID INT,\n",
    "            Provider_Type VARCHAR(100),\n",
    "            Location VARCHAR(100),\n",
    "            Food_Type VARCHAR(100),\n",
    "            Meal_Type VARCHAR(100),\n",
    "            FOREIGN KEY (Provider_ID) REFERENCES providers(Provider_ID)\n",
    "        )\n",
    "    \"\"\")\n",
    "conn.commit()"
   ]
  },
  {
   "cell_type": "code",
   "execution_count": 35,
   "id": "a1373aa0",
   "metadata": {},
   "outputs": [],
   "source": [
    "# Insert data using iterrows()\n",
    "for index, row in df_foodlist.iterrows():\n",
    "    cursor.execute(\"\"\"\n",
    "        INSERT INTO foodlist (Food_ID,Food_Name,Quantity,Expiry_Date,Provider_ID,Provider_Type,Location,Food_Type,Meal_Type)\n",
    "        VALUES (%s, %s, %s, %s, %s, %s, %s, %s, %s)\n",
    "    \"\"\", tuple(row))"
   ]
  },
  {
   "cell_type": "code",
   "execution_count": 36,
   "id": "b4e10df3",
   "metadata": {},
   "outputs": [],
   "source": [
    "conn.commit()"
   ]
  },
  {
   "cell_type": "code",
   "execution_count": 37,
   "id": "8aa95f87",
   "metadata": {},
   "outputs": [],
   "source": [
    "#table for claims\n",
    "cursor.execute(\"\"\"\n",
    "        CREATE TABLE IF NOT EXISTS claims (\n",
    "            Claim_ID INT AUTO_INCREMENT PRIMARY KEY,\n",
    "            Food_ID INT,\n",
    "            Receiver_ID INT,\n",
    "            Status VARCHAR(50),\n",
    "            Timestamp DATETIME,\n",
    "            FOREIGN KEY (Food_ID) REFERENCES foodlist(Food_ID),\n",
    "            FOREIGN KEY (Receiver_ID) REFERENCES receivers(Receiver_ID)\n",
    "        )\n",
    "    \"\"\")\n",
    "conn.commit()"
   ]
  },
  {
   "cell_type": "code",
   "execution_count": 39,
   "id": "55d2812d",
   "metadata": {},
   "outputs": [],
   "source": [
    "# Insert data using iterrows()\n",
    "for index, row in df_claims.iterrows():\n",
    "    cursor.execute(\"\"\"\n",
    "        INSERT INTO claims (Claim_ID, Food_ID, Receiver_ID, Status, Timestamp)\n",
    "        VALUES (%s, %s, %s, %s, %s)\n",
    "    \"\"\", tuple(row))"
   ]
  },
  {
   "cell_type": "code",
   "execution_count": 40,
   "id": "f58ac56e",
   "metadata": {},
   "outputs": [],
   "source": [
    "conn.commit()"
   ]
  },
  {
   "cell_type": "code",
   "execution_count": null,
   "id": "981a0f47",
   "metadata": {},
   "outputs": [],
   "source": []
  },
  {
   "cell_type": "code",
   "execution_count": null,
   "id": "fbe6a4fe",
   "metadata": {},
   "outputs": [],
   "source": [
    "Claim_ID     1000 non-null   int64         \n",
    " 1   Food_ID      1000 non-null   int64         \n",
    " 2   Receiver_ID  1000 non-null   int64         \n",
    " 3   Status       1000 non-null   object        \n",
    " 4   Timestamp    1000 non-null   datetime64[ns]"
   ]
  }
 ],
 "metadata": {
  "kernelspec": {
   "display_name": "Python (venv)",
   "language": "python",
   "name": "venv"
  },
  "language_info": {
   "codemirror_mode": {
    "name": "ipython",
    "version": 3
   },
   "file_extension": ".py",
   "mimetype": "text/x-python",
   "name": "python",
   "nbconvert_exporter": "python",
   "pygments_lexer": "ipython3",
   "version": "3.13.3"
  }
 },
 "nbformat": 4,
 "nbformat_minor": 5
}
